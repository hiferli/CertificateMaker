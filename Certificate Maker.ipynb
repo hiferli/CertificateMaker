{
 "cells": [
  {
   "cell_type": "markdown",
   "id": "6ed36cbe",
   "metadata": {},
   "source": [
    "# Certificate Maker"
   ]
  },
  {
   "cell_type": "markdown",
   "id": "b5ad3927",
   "metadata": {},
   "source": [
    "### Importing Libraries"
   ]
  },
  {
   "cell_type": "code",
   "execution_count": 1,
   "id": "76f4921e",
   "metadata": {},
   "outputs": [
    {
     "name": "stdout",
     "output_type": "stream",
     "text": [
      "Hello World\n"
     ]
    }
   ],
   "source": [
    "import pandas as pd\n",
    "from PIL import Image, ImageDraw, ImageFont\n",
    "print(\"Hello World\")"
   ]
  },
  {
   "cell_type": "markdown",
   "id": "2ef045cf",
   "metadata": {},
   "source": [
    "### Here, you add the name of the Excell file you want to analyse.\n",
    "### IMP: Make sure that you download/convert the file in .csv format"
   ]
  },
  {
   "cell_type": "code",
   "execution_count": 2,
   "id": "83df92b2",
   "metadata": {},
   "outputs": [],
   "source": [
    "data = pd.read_csv(\"Sample.csv\")"
   ]
  },
  {
   "cell_type": "markdown",
   "id": "53b6424a",
   "metadata": {},
   "source": [
    "### The below cell shows you the content of your file"
   ]
  },
  {
   "cell_type": "code",
   "execution_count": 3,
   "id": "40c7948b",
   "metadata": {},
   "outputs": [
    {
     "data": {
      "text/html": [
       "<div>\n",
       "<style scoped>\n",
       "    .dataframe tbody tr th:only-of-type {\n",
       "        vertical-align: middle;\n",
       "    }\n",
       "\n",
       "    .dataframe tbody tr th {\n",
       "        vertical-align: top;\n",
       "    }\n",
       "\n",
       "    .dataframe thead th {\n",
       "        text-align: right;\n",
       "    }\n",
       "</style>\n",
       "<table border=\"1\" class=\"dataframe\">\n",
       "  <thead>\n",
       "    <tr style=\"text-align: right;\">\n",
       "      <th></th>\n",
       "      <th>Email</th>\n",
       "      <th>Name</th>\n",
       "    </tr>\n",
       "  </thead>\n",
       "  <tbody>\n",
       "    <tr>\n",
       "      <th>0</th>\n",
       "      <td>diya1704@gmail.com</td>\n",
       "      <td>Diya Arora</td>\n",
       "    </tr>\n",
       "    <tr>\n",
       "      <th>1</th>\n",
       "      <td>shroffakshit@gmail.com</td>\n",
       "      <td>Akshit Shroff</td>\n",
       "    </tr>\n",
       "    <tr>\n",
       "      <th>2</th>\n",
       "      <td>deep.shukla2004@gmail.com</td>\n",
       "      <td>Deepanshu Shukla</td>\n",
       "    </tr>\n",
       "    <tr>\n",
       "      <th>3</th>\n",
       "      <td>mittals12394@gmail.com</td>\n",
       "      <td>Sahil Mittal</td>\n",
       "    </tr>\n",
       "    <tr>\n",
       "      <th>4</th>\n",
       "      <td>vinayaksahuvs1@gmail.com</td>\n",
       "      <td>VINAYAK SAHU</td>\n",
       "    </tr>\n",
       "    <tr>\n",
       "      <th>5</th>\n",
       "      <td>smritigrover2003@gmail.com</td>\n",
       "      <td>Smriti Grover</td>\n",
       "    </tr>\n",
       "    <tr>\n",
       "      <th>6</th>\n",
       "      <td>malvika189@gmail.com</td>\n",
       "      <td>MANYA GOYAL</td>\n",
       "    </tr>\n",
       "    <tr>\n",
       "      <th>7</th>\n",
       "      <td>jharishi2025@gmail.com</td>\n",
       "      <td>Rishi Jha</td>\n",
       "    </tr>\n",
       "    <tr>\n",
       "      <th>8</th>\n",
       "      <td>yatinsansanwal11@gmail.com</td>\n",
       "      <td>Yatin Sansanwal</td>\n",
       "    </tr>\n",
       "    <tr>\n",
       "      <th>9</th>\n",
       "      <td>madeeha9303@gmail.com</td>\n",
       "      <td>Madeeha Ishaque</td>\n",
       "    </tr>\n",
       "    <tr>\n",
       "      <th>10</th>\n",
       "      <td>aryan7109singh@gmail.com</td>\n",
       "      <td>Aryan Singh</td>\n",
       "    </tr>\n",
       "    <tr>\n",
       "      <th>11</th>\n",
       "      <td>anurag9953001342@gmail.com</td>\n",
       "      <td>Anurag Gupta</td>\n",
       "    </tr>\n",
       "    <tr>\n",
       "      <th>12</th>\n",
       "      <td>pj086154@gmail.com</td>\n",
       "      <td>Pooja</td>\n",
       "    </tr>\n",
       "    <tr>\n",
       "      <th>13</th>\n",
       "      <td>khushikulshreshtha1703@gmail.com</td>\n",
       "      <td>Khushi Kulshreshtha</td>\n",
       "    </tr>\n",
       "  </tbody>\n",
       "</table>\n",
       "</div>"
      ],
      "text/plain": [
       "                               Email                  Name\n",
       "0                 diya1704@gmail.com            Diya Arora\n",
       "1             shroffakshit@gmail.com        Akshit Shroff \n",
       "2          deep.shukla2004@gmail.com      Deepanshu Shukla\n",
       "3             mittals12394@gmail.com          Sahil Mittal\n",
       "4           vinayaksahuvs1@gmail.com          VINAYAK SAHU\n",
       "5         smritigrover2003@gmail.com         Smriti Grover\n",
       "6               malvika189@gmail.com           MANYA GOYAL\n",
       "7             jharishi2025@gmail.com             Rishi Jha\n",
       "8         yatinsansanwal11@gmail.com      Yatin Sansanwal \n",
       "9              madeeha9303@gmail.com       Madeeha Ishaque\n",
       "10          aryan7109singh@gmail.com           Aryan Singh\n",
       "11        anurag9953001342@gmail.com          Anurag Gupta\n",
       "12                pj086154@gmail.com                 Pooja\n",
       "13  khushikulshreshtha1703@gmail.com  Khushi Kulshreshtha "
      ]
     },
     "execution_count": 3,
     "metadata": {},
     "output_type": "execute_result"
    }
   ],
   "source": [
    "data"
   ]
  },
  {
   "cell_type": "markdown",
   "id": "15c1bfaf",
   "metadata": {},
   "source": [
    "### IMP: Make sure the heading of the column in which the names are present is named as \"Name\"\n",
    "#### (If not, then open the excell sheet and replace the heading manually...)"
   ]
  },
  {
   "cell_type": "markdown",
   "id": "bd685dd9",
   "metadata": {},
   "source": [
    "### Thereafter, we store these names in a \"names\" variable.\n",
    "#### (All these names are stored in the form of an array)"
   ]
  },
  {
   "cell_type": "code",
   "execution_count": 4,
   "id": "59b6963e",
   "metadata": {},
   "outputs": [],
   "source": [
    "names = data[\"Name\"].values"
   ]
  },
  {
   "cell_type": "markdown",
   "id": "5cf49fc9",
   "metadata": {},
   "source": [
    "### Now, we add the styling to the text we want to add on the certificate\n",
    "### Here, the \"font\" variable is storing the font-style and the font-size given as parameters \n",
    "### And the \"color\" variable is storing the color of the text to be added in the certificate\n",
    "### And the \"cordinates\" variable is storing the cordinates of the place we want to add the text to\n",
    "#### (Open the certificate in Paint and then on the bottom right corner, you would find the cordinates of the location of your cursor)\n"
   ]
  },
  {
   "cell_type": "code",
   "execution_count": 8,
   "id": "31c97b8b",
   "metadata": {},
   "outputs": [],
   "source": [
    "i = 0\n",
    "font = ImageFont.truetype(\"arial.ttf\", 100)\n",
    "cordinates = (600 , 600)\n",
    "color = \"Black\""
   ]
  },
  {
   "cell_type": "markdown",
   "id": "5b871d30",
   "metadata": {},
   "source": [
    "# Now comes the printing loop\n",
    "### Here, we are iterating on the array of names we made in the above cell(s)\n",
    "### For each name in that array, we are opening the certificate template and then adding that name as a text to it \n",
    "### Moreover, the styling we stored in the font variable is being used on the names\n",
    "### Afterwards, we convert save the certificate on 0-based indexing, so that mailing them by using the mails in the data becomes easy\n",
    "#### (IMP: You may comment the certi.show() line, else all these certificates will open up as well)"
   ]
  },
  {
   "cell_type": "code",
   "execution_count": 9,
   "id": "7d0db5ff",
   "metadata": {},
   "outputs": [],
   "source": [
    "for element in names:\n",
    "    certi = Image.open(\"Certi Proto.png\")\n",
    "    draw = ImageDraw.Draw(certi)\n",
    "    draw.text(cordinates , element , color , font = font)\n",
    "    certi.show()\n",
    "    final = certi.convert(\"RGB\")\n",
    "    final.save((str(i) + \".jpg\"))\n",
    "    i += 1"
   ]
  },
  {
   "cell_type": "markdown",
   "id": "b101c227",
   "metadata": {},
   "source": [
    "# Thank You\n",
    "## ~ Ishaan"
   ]
  }
 ],
 "metadata": {
  "kernelspec": {
   "display_name": "Python 3 (ipykernel)",
   "language": "python",
   "name": "python3"
  },
  "language_info": {
   "codemirror_mode": {
    "name": "ipython",
    "version": 3
   },
   "file_extension": ".py",
   "mimetype": "text/x-python",
   "name": "python",
   "nbconvert_exporter": "python",
   "pygments_lexer": "ipython3",
   "version": "3.10.2"
  }
 },
 "nbformat": 4,
 "nbformat_minor": 5
}
